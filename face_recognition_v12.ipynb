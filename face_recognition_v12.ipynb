{
 "cells": [
  {
   "cell_type": "code",
   "execution_count": 17,
   "metadata": {
    "collapsed": true
   },
   "outputs": [],
   "source": [
    "# pip install opencv-python\n",
    "import os\n",
    "import shutil\n",
    "import cv2\n",
    "import numpy as np\n",
    "import matplotlib as mpl\n",
    "from matplotlib import pyplot as plt"
   ]
  },
  {
   "cell_type": "markdown",
   "metadata": {},
   "source": [
    "# 얼굴사진 추출"
   ]
  },
  {
   "cell_type": "code",
   "execution_count": 18,
   "metadata": {},
   "outputs": [],
   "source": [
    "face_cascade = cv2.CascadeClassifier('./xml/haarcascade_frontalface_default.xml') # 얼굴 검출기\n",
    "eye_cascade = cv2.CascadeClassifier('./xml/haarcascade_eye.xml') # 눈 검출기\n",
    "mouth_cascade = cv2.CascadeClassifier('./xml/haarcascade_mcs_mouth.xml') # 입 검출기\n",
    "nose_cascade = cv2.CascadeClassifier('./xml/haarcascade_mcs_nose.xml') # 코 검출기"
   ]
  },
  {
   "cell_type": "markdown",
   "metadata": {},
   "source": [
    "# face_cropping 함수 설명\n",
    "- 얼굴 1개, 눈, 입이 인식된 사진만 자르는 함수.\n",
    "- SVM, CNN등의 이미지 자체를 사용하는 모델을 위해 사용\n",
    "\n",
    "### 변수 설명\n",
    "- img_folder: 인물사진이 담긴 폴더\n",
    "- filtered_folder: 얼굴, 눈이 검출 안된 사진이 옮겨질 폴더\n",
    "- face_folder: 얼굴사진이 담길 폴더\n",
    "- person_name: 인물이름\n",
    "- seperation_string: 구별문자(폴더에 사진이 많을경우 나눠서 작업을 진행, 파일명 중복을 막기위함)\n",
    "- working directory에 얼굴, 눈 인식결과가 저장회차_ _인물이름_result.txt로 저장"
   ]
  },
  {
   "cell_type": "code",
   "execution_count": 19,
   "metadata": {
    "collapsed": true
   },
   "outputs": [],
   "source": [
    "def face_cropping(img_folder, filtered_folder, face_folder, person_name, seperation_string):\n",
    "    f = open('fc_'+str(seperation_string) +'_' + person_name +'_result' + '.txt', 'w') # 얼굴, 눈 갯수 인식 결과 저장파일\n",
    "    img_nums = os.walk(img_folder).next()[2] # img_folder에 있는 파일들 이름 리스트\n",
    "    face_num = 0; # 초기 얼굴번호\n",
    "    \n",
    "    for img_num in img_nums: # 원본 이미지 하나씩 꺼내오는 loop \n",
    "        img = cv2.imread(\"{}/{}\".format(img_folder, img_num)) # 컬러 원본 이미지(이미지 파일만 읽음)\n",
    "        gray = cv2.cvtColor(img, cv2.COLOR_BGR2GRAY) # 흑백 원본 이미지\n",
    "        faces = face_cascade.detectMultiScale(gray, 1.3, 5) # 얼굴들 좌표 검출\n",
    "        \n",
    "        if len(faces) == 0:\n",
    "            shutil.move('{}/{}'.format(img_folder, img_num),'{}/{}'.format(filtered_folder, img_num)) # 검출안된 원본 이미지 이동\n",
    "            f.write(str(img_num) + ' face:' + str(len(faces)) + '\\n') # 검출 결과 저장\n",
    "            continue\n",
    "        else:\n",
    "            for (x,y,w,h) in faces: # 얼굴 좌표 추출\n",
    "                roi_gray = gray[y:y+h, x:x+w] # 흑백 얼굴 이미지\n",
    "                \n",
    "                # 눈 검출 영역: 위 60% 면적\n",
    "                roi_eyes = roi_gray[0 : np.int(np.round(len(roi_gray)*0.6)), :]\n",
    "                # 입 검출 영역: 아래 40% 면적\n",
    "                roi_mouth = roi_gray[np.int(np.round(len(roi_gray)*0.6)) : len(roi_gray), :] \n",
    "                \n",
    "                eyes = eye_cascade.detectMultiScale(roi_eyes) # 눈들 좌표 검출\n",
    "                nose = nose_cascade.detectMultiScale(roi_gray) # 코 좌표 검출\n",
    "                mouth = mouth_cascade.detectMultiScale(roi_mouth) # 입 좌표검출\n",
    "                \n",
    "\n",
    "            log = str(img_num) + ' face:' + str(len(faces)) + ' eye: '+ str(len(eyes)) + ' nose: ' + str(len(nose))\\\n",
    "            +' mouth: ' + str(len(mouth)) + '\\n' # 검출 결과 저장\n",
    "            \n",
    "            f.write(log)\n",
    "            # 얼굴이 1개, 눈, 입이 검출된 얼굴 사진일때\n",
    "            if len(faces) == 1 and len(eyes) > 0 and len(mouth) > 0: \n",
    "                for (x,y,w,h) in faces: \n",
    "                    cropped = img[y : y+h, x : x+w] # 원본 이미지에서 얼굴부분 cropping\n",
    "                    resized = cv2.resize(cropped,(100,100)) # 100 x 100 크기로 리사이즈\n",
    "                cv2.imwrite('{}'.format(face_folder) + '/' + str(seperation_string) +'_'\\\n",
    "                            +'{}'.format(person_name) + str(face_num) +'.jpg', resized) # 얼굴 사진 저장\n",
    "                face_num += 1 # 얼굴번호 상승\n",
    "\n",
    "            else:\n",
    "                # 그 외의경우\n",
    "                shutil.move('{}/{}'.format(img_folder, img_num),'{}/{}'.format(filtered_folder, img_num)) \n",
    "    f.close()"
   ]
  },
  {
   "cell_type": "markdown",
   "metadata": {},
   "source": [
    "# face_cropping_with_features 함수 설명\n",
    "- 얼굴 사진 자르기 및 특징인식된 사진 저장\n",
    "- 얼굴 특징의 수치적 변환을 위해 사용\n",
    "- 정확하게 얼굴 특징들이 인식된 사진만 저장\n",
    "\n",
    "### 변수 설명\n",
    "- img_folder: 인물사진이 담긴 폴더\n",
    "- filtered_folder: 얼굴, 눈이 검출 안된 사진이 옮겨질 폴더\n",
    "- face_folder: 얼굴사진이 담길 폴더\n",
    "- feature_folde: 특징인식된 사진이 담길 폴더\n",
    "- person_name: 인물이름\n",
    "- seperation_string: 구별문자(폴더에 사진이 많을경우 나눠서 작업을 진행, 파일명 중복을 막기위함)\n",
    "- working directory에 얼굴, 눈 인식결과가 저장회차_ _인물이름_result.txt로 저장"
   ]
  },
  {
   "cell_type": "code",
   "execution_count": 20,
   "metadata": {
    "collapsed": true
   },
   "outputs": [],
   "source": [
    "def face_cropping_with_features(img_folder, filtered_folder, face_folder, feature_folder, person_name, seperation_string):\n",
    "    f = open('fcwf_'+str(seperation_string) +'_' + person_name +'_result' + '.txt', 'w') # 결과 저장파일\n",
    "    img_nums = os.walk(img_folder).next()[2] # img_folder에 있는 파일들 이름 리스트\n",
    "    face_num = 0; # 초기 얼굴번호\n",
    "    \n",
    "    for img_num in img_nums: # 원본 이미지 하나씩 꺼내오는 loop \n",
    "        img = cv2.imread(\"{}/{}\".format(img_folder, img_num)) # 컬러 원본 이미지(이미지 파일만 읽음)\n",
    "        gray = cv2.cvtColor(img, cv2.COLOR_BGR2GRAY) # 흑백 원본 이미지\n",
    "        faces = face_cascade.detectMultiScale(gray, 1.3, 5) # 얼굴들 좌표 검출\n",
    "        \n",
    "        # 검출된 얼굴 갯수가 0개 일때,\n",
    "        # 검출 안된 이미지를 옮기고 loop의 다음 이미지로 이동\n",
    "        if len(faces) == 0:\n",
    "            shutil.move('{}/{}'.format(img_folder, img_num),'{}/{}'.format(filtered_folder, img_num)) # 검출안된 원본 이미지 이동\n",
    "            f.write(str(img_num) + ' face:' + str(len(faces)) + '\\n') # 검출 결과 저장\n",
    "            continue\n",
    "        \n",
    "        # 검출된 얼굴 갯수가 0개가 아닐때,\n",
    "        # 얼굴 좌표를 추출하여 특징을 검출\n",
    "        else:\n",
    "            for (x,y,w,h) in faces: # 얼굴 좌표 추출\n",
    "                cropped = img[y : y+h, x : x+w] # 원본 이미지에서 얼굴부분 cropping\n",
    "                resized = cv2.resize(cropped,(100,100)) # 100 x 100 크기로 리사이즈\n",
    "                \n",
    "                roi_gray = cv2.cvtColor(resized, cv2.COLOR_BGR2GRAY) # 리사이즈 이미지의 흑백화\n",
    "                # 눈 검출 영역: 위 60% 면적\n",
    "                roi_eyes = roi_gray[0 : np.int(np.round(len(roi_gray)*0.6)), :] \n",
    "                \n",
    "                # 코 검출 영역: 중앙 60% 면적\n",
    "                roi_nose = roi_gray[20:80, :]\n",
    "                \n",
    "                # 입 검출 영역: 아래 40% 면적\n",
    "                roi_mouth = roi_gray[np.int(np.round(len(roi_gray)*0.6)) : len(roi_gray), :] \n",
    "                \n",
    "                eyes = eye_cascade.detectMultiScale(roi_eyes) # 눈들 좌표 검출\n",
    "                nose = nose_cascade.detectMultiScale(roi_nose) # 코 좌표 검출\n",
    "                mouth = mouth_cascade.detectMultiScale(roi_mouth) # 입 좌표검출\n",
    "                \n",
    "                log = str(img_num) + ' face:' + str(len(faces)) + ' eye: '+ str(len(eyes)) + ' nose: ' + str(len(nose))\\\n",
    "                +' mouth: ' + str(len(mouth)) + '\\n' # 검출 결과 저장\n",
    "\n",
    "                f.write(log)\n",
    "                # 얼굴이 1개, 눈이 2개, 코가 1개, 입이 1개인 얼굴 사진일때\n",
    "                if len(faces) == 1 and len(eyes) == 2 and len(nose) == 1 and len(mouth) == 1: \n",
    "                    features = np.copy(resized)\n",
    "                    \n",
    "                    # 눈 위치 그리기\n",
    "                    for (ex,ey,ew,eh) in eyes:\n",
    "                        cv2.rectangle(features,(ex,ey),(ex+ew,ey+eh),(0,255,0),2) # BGR(Blue, Green, Red)\n",
    "                    \n",
    "                    # 코 위치 그리기\n",
    "                    for (nx,ny,nw,nh) in nose:\n",
    "                        ny = ny + 20 # 좌표 보정\n",
    "                        cv2.rectangle(features,(nx,ny),(nx+nw,ny+nh),(255,0,0),2)\n",
    "                    \n",
    "                    # 입 위치 그리기\n",
    "                    for (mx,my,mw,mh) in mouth:\n",
    "                        my = my + np.int(np.round(len(roi_gray)*0.6)) # 좌표 보정\n",
    "                        cv2.rectangle(features,(mx,my),(mx+mw,my+mh),(0,0,255),2)\n",
    "                    \n",
    "                    # 입을 잘못 검출 했을 때\n",
    "                    # 검출된 얼굴이 2개인 경우도 있기 때문에 break\n",
    "                    if (my) < (ny+nh) - 10:\n",
    "                        shutil.move('{}/{}'.format(img_folder, img_num),'{}/{}'.format(filtered_folder, img_num))\n",
    "                        break\n",
    "                    \n",
    "                    # 입을 제대로 검출 했을 때\n",
    "                    else:\n",
    "                        # 얼굴 사진 저장\n",
    "                        cv2.imwrite('{}'.format(face_folder) + '/' + str(seperation_string) +'_'\\\n",
    "                                    +'{}'.format(person_name) + str(face_num) +'.jpg', resized)                   \n",
    "\n",
    "                        # 특징 사진 저장 \n",
    "                        cv2.imwrite('{}'.format(feature_folder) + '/' + str(seperation_string) +'_'\\\n",
    "                                    +'{}'.format(person_name) + str(face_num) +'.jpg', features)                  \n",
    "\n",
    "                        face_num += 1 # 얼굴번호 상승\n",
    "                \n",
    "                # 얼굴이 1개, 눈이 2개, 코가 1개, 입이 1개인 얼굴 사진 이외의 경우\n",
    "                # 검출된 얼굴이 2개인 경우도 있기 때문에 break\n",
    "                else:\n",
    "                    shutil.move('{}/{}'.format(img_folder, img_num),'{}/{}'.format(filtered_folder, img_num))\n",
    "                    break\n",
    "    f.close()"
   ]
  },
  {
   "cell_type": "markdown",
   "metadata": {},
   "source": [
    "### 박지성 얼굴 사진 자르기 및 특징사진 저장"
   ]
  },
  {
   "cell_type": "code",
   "execution_count": 11,
   "metadata": {},
   "outputs": [],
   "source": [
    "img_folder = \"./park\"\n",
    "filtered_folder = \"./park_filtered_1\"\n",
    "face_folder = \"./park_faces_fcwf\"\n",
    "feature_folder = \"./park_features\"\n",
    "person_name = \"park\"\n",
    "seperation_string = 'jsb_fcwf0'\n",
    "face_cropping_with_features(img_folder, filtered_folder, face_folder, feature_folder, person_name, seperation_string)"
   ]
  },
  {
   "cell_type": "markdown",
   "metadata": {},
   "source": [
    "### 박지성 얼굴 사진 자르기"
   ]
  },
  {
   "cell_type": "code",
   "execution_count": 12,
   "metadata": {
    "collapsed": true
   },
   "outputs": [],
   "source": [
    "img_folder = \"./park_filtered_1\"\n",
    "filtered_folder = \"./park_filtered_2\"\n",
    "face_folder = \"./park_faces_fc\"\n",
    "person_name = \"park\"\n",
    "seperation_string = 'jsb_fc0'\n",
    "face_cropping(img_folder, filtered_folder, face_folder, person_name, seperation_string)"
   ]
  },
  {
   "cell_type": "markdown",
   "metadata": {},
   "source": [
    "### 유해진 얼굴 사진 자르기 및 특징사진 저장"
   ]
  },
  {
   "cell_type": "code",
   "execution_count": 27,
   "metadata": {},
   "outputs": [],
   "source": [
    "img_folder = \"./yoo\"\n",
    "filtered_folder = \"./yoo_filtered_1\"\n",
    "face_folder = \"./yoo_faces_fcwf\"\n",
    "feature_folder = \"./yoo_features\"\n",
    "person_name = \"yoo\"\n",
    "seperation_string = 'bom_fcwf'\n",
    "face_cropping_with_features(img_folder, filtered_folder, face_folder, feature_folder, person_name, seperation_string)"
   ]
  },
  {
   "cell_type": "markdown",
   "metadata": {},
   "source": [
    "### 유해진 얼굴 사진 자르기"
   ]
  },
  {
   "cell_type": "code",
   "execution_count": 28,
   "metadata": {
    "collapsed": true
   },
   "outputs": [],
   "source": [
    "img_folder = \"./yoo_filtered_1\" \n",
    "filtered_folder = \"./yoo_filtered_2\"\n",
    "face_folder = './yoo_faces_fc' \n",
    "person_name = 'yoo'\n",
    "seperation_string = 'bom_fc'\n",
    "face_cropping(img_folder, filtered_folder, face_folder, person_name, seperation_string)"
   ]
  },
  {
   "cell_type": "markdown",
   "metadata": {},
   "source": [
    "# 잘려진 얼굴들(fcwf폴더)에서 특징들의 수치화"
   ]
  },
  {
   "cell_type": "code",
   "execution_count": 15,
   "metadata": {
    "collapsed": true
   },
   "outputs": [],
   "source": [
    "park = './park_faces_fcwf'\n",
    "yoo = './yoo_faces_fcwf'\n",
    "folders = [park, yoo] # 얼굴사진들이 담긴 폴더"
   ]
  },
  {
   "cell_type": "code",
   "execution_count": 16,
   "metadata": {},
   "outputs": [],
   "source": [
    "f = open('face_feature_result.csv','w') # 추출된 특징이 저장될 파일\n",
    "f.write('folder, file, dist_eyes, dist_forehaed_to_nose, dist_nostril, nose_width, mouth_width\\n')\n",
    "for folder in folders:\n",
    "    faces = os.walk(folder).next()[2] \n",
    "    for face in faces:\n",
    "        img = cv2.imread('{}/{}'.format(folder, face))\n",
    "        # gray-scale로 변환\n",
    "        gray = cv2.cvtColor(img, cv2.COLOR_BGR2GRAY)\n",
    "\n",
    "        # face feature extraction\n",
    "        eyes = eye_cascade.detectMultiScale(gray[0: 60, :])\n",
    "        mouth = mouth_cascade.detectMultiScale(gray[49:99, :])\n",
    "        nose = nose_cascade.detectMultiScale(gray)\n",
    "        \n",
    "        # information extration\n",
    "        \n",
    "        # 두 눈의 좌표(e1x, e2x, e1y, e2y)\n",
    "        if len(eyes) == 2:    \n",
    "            eyes_xy = np.zeros(4)\n",
    "            for i, (ex,ey,ew,eh) in enumerate(eyes):\n",
    "                eyes_xy[i] = (2 * ex + ew) / 2\n",
    "                eyes_xy[i+2] = (2 * ey + eh) / 2\n",
    "                \n",
    "        # 두 눈사이의 거리 계산\n",
    "        dist_eyes = np.sqrt((eyes_xy[0] - eyes_xy[1])**2 + (eyes_xy[2] - eyes_xy[3])**2)\n",
    "            \n",
    "        # 입의 좌표\n",
    "        if len(mouth) == 1:\n",
    "            mouth_xy = np.zeros(4)\n",
    "            for (mx, my, mw, mh) in mouth:\n",
    "                my = my + 50\n",
    "                mouth_xy[0] = mx; mouth_xy[1] = my; mouth_xy[2] = mx+mw; mouth_xy[3] = my+mh\n",
    "                    \n",
    "        # 입의 크기 계산\n",
    "        roi_c_mouth = img[my:my+mh, mx:mx+mw]\n",
    "        roi_g_mouth = gray[my:my+mh, mx:mx+mw]\n",
    "        mouth_size = mw * mh\n",
    "        # TODO: threshold 이용해서 update\n",
    "            \n",
    "        # 입의 색 검출\n",
    "        # TODO\n",
    "            \n",
    "        # 코의 좌표 및 폭(nx, ny, nw)\n",
    "        if len(nose)== 1:\n",
    "            nose_xy = np.zeros(4)\n",
    "            for (nx, ny, nw, nh) in nose:\n",
    "                nose_xy[0] = (2 * nx + nw) / 2; nose_xy[1] = (2 * ny + nh) / 2; \n",
    "                nose_xy[2] = nw; nose_xy[3] = nh\n",
    "        \n",
    "        # 코 이미지\n",
    "        roi_c_nose = img[ny:ny+nh, nx:nx+nw]\n",
    "        roi_g_nose = gray[ny:ny+nh, nx:nx+nw]\n",
    "        \n",
    "        # 미간의 좌표\n",
    "        forehead_xy = [(eyes_xy[0]+eyes_xy[1])/2, (eyes_xy[2]+eyes_xy[3])/2]\n",
    "        \n",
    "        # 미간과 코 사이의 거리 계산\n",
    "        dist_forehaed_to_nose = np.sqrt((forehead_xy[0] - nose_xy[0])**2 + (forehead_xy[1] - nose_xy[1])**2)\n",
    "              \n",
    "        # 코의 다른 특징 검출\n",
    "        # 콧구멍 검출\n",
    "        roi_l_nostril = roi_g_nose[:, 0: np.round(len(roi_g_nose[1])/2)]\n",
    "        roi_r_nostril = roi_g_nose[:, np.round(len(roi_g_nose[1])/2) : len(roi_g_nose)]\n",
    "        \n",
    "        l_ret, l_nostril = cv2.threshold(roi_l_nostril, roi_l_nostril.min() + 10, 255, cv2.THRESH_BINARY_INV)\n",
    "        r_ret, r_nostril = cv2.threshold(roi_r_nostril, roi_r_nostril.min() + 10, 255, cv2.THRESH_BINARY_INV)\n",
    "        \n",
    "        # 콧구멍 좌표\n",
    "        l_nostril_xy = [np.round(np.average(np.nonzero(l_nostril)[1])), np.round(np.average(np.nonzero(l_nostril)[0]))]\n",
    "        r_nostril_xy = [np.round(np.average(np.nonzero(r_nostril)[1])) + np.round(len(roi_g_nose[1])/2), \\\n",
    "                        np.round(np.average(np.nonzero(r_nostril)[0]))]\n",
    "        \n",
    "        # 콧구멍간 거리\n",
    "        dist_nostril = np.sqrt((l_nostril_xy[0] - r_nostril_xy[0])**2 + (l_nostril_xy[1] - r_nostril_xy[1])**2)\n",
    "\n",
    "#         print l_nostril_xy, r_nostril_xy\n",
    "#         print dist_nostril\n",
    "        \n",
    "        # 얼굴색 검출          \n",
    "        # TODO\n",
    "        # \n",
    "            \n",
    "            \n",
    "            \n",
    "        # 얼굴 특징 저장(dist_eyes, dist_forehaed_to_nose, dist_nostril, nose_width, mouth_width)\n",
    "        f.write('{}'.format(folder)+','+'{}'.format(face) +','\\\n",
    "                + str(dist_eyes) + ',' + str(dist_forehaed_to_nose) + ',' + str(dist_nostril) + ','\\\n",
    "                + str(nw) + ','+ str(mw) +'\\n')\n",
    "            \n",
    "\n",
    "#                 f.write('{}'.format(folder)+','+'{}'.format(face) +','+\\\n",
    "#                         str(ex)+','+ str(ey)+','+str(ew)+','+str(eh)+ '\\n') \n",
    "                \n",
    "#                 cv2.rectangle(img,(ex,ey),(ex+ew,ey+eh),(0,255,0),2)\n",
    "\n",
    "#             cv2.imshow('img', img)\n",
    "#             cv2.waitKey(100)\n",
    "f.close()\n",
    "\n",
    "# cv2.destroyAllWindows()"
   ]
  },
  {
   "cell_type": "markdown",
   "metadata": {},
   "source": [
    "# 분석은 도커에서"
   ]
  },
  {
   "cell_type": "markdown",
   "metadata": {
    "collapsed": true
   },
   "source": [
    "### 이미지 벡터라이징"
   ]
  },
  {
   "cell_type": "code",
   "execution_count": 23,
   "metadata": {},
   "outputs": [],
   "source": [
    "# parks = ['./park_faces_fcwf', './park_faces_fc']\n",
    "# yoos = ['./yoo_faces_fcwf', './yoo_faces_fc']"
   ]
  },
  {
   "cell_type": "code",
   "execution_count": 51,
   "metadata": {},
   "outputs": [],
   "source": [
    "# tmp = []\n",
    "# for folder in parks:\n",
    "#     faces = os.walk(folder).next()[2]\n",
    "#     for face in faces:\n",
    "#         img = cv2.imread('{}/{}'.format(folder, face))\n",
    "#         # gray-scale로 변환\n",
    "#         gray = cv2.cvtColor(img, cv2.COLOR_BGR2GRAY)\n",
    "#         # 1차원 벡터로 변환\n",
    "#         img_vect = gray.flatten()\n",
    "#         tmp.append(img_vect)\n",
    "# dx1 = np.vstack(tmp)\n",
    "# dy1 = np.zeros(len(dx1))"
   ]
  },
  {
   "cell_type": "code",
   "execution_count": 49,
   "metadata": {
    "collapsed": true
   },
   "outputs": [],
   "source": [
    "# tmp = []\n",
    "# for folder in yoos:\n",
    "#     faces = os.walk(folder).next()[2]\n",
    "#     for face in faces:\n",
    "#         img = cv2.imread('{}/{}'.format(folder, face))\n",
    "#         # gray-scale로 변환\n",
    "#         gray = cv2.cvtColor(img, cv2.COLOR_BGR2GRAY)\n",
    "#         # 1차원 벡터로 변환\n",
    "#         img_vect = gray.flatten()\n",
    "#         tmp.append(img_vect)\n",
    "# dx2 = np.vstack(tmp)\n",
    "# dy2 = np.zeros(len(dx2))"
   ]
  },
  {
   "cell_type": "code",
   "execution_count": 52,
   "metadata": {},
   "outputs": [],
   "source": [
    "# dX = np.vstack((dx1, dx2))\n",
    "# dy = np.hstack((dy1, dy2))"
   ]
  },
  {
   "cell_type": "markdown",
   "metadata": {},
   "source": [
    "## 얼굴 인식 결과 사진으로 보여주기"
   ]
  },
  {
   "cell_type": "code",
   "execution_count": 9,
   "metadata": {
    "collapsed": true
   },
   "outputs": [],
   "source": [
    "folder = \"C:/Study/lab-python/dataScientist/shortProject/park\" # 원본사진이 담긴 폴더\n",
    "file_name = \"101231 2010 South Korea's sports Captain Ji Sung Park 720p.mp4_20170308_211741.234\" #원본사진의 파일명"
   ]
  },
  {
   "cell_type": "code",
   "execution_count": 29,
   "metadata": {
    "collapsed": true
   },
   "outputs": [],
   "source": [
    "folder = \"C:/Study/lab-python/dataScientist/shortProject/yoo\" # 원본사진이 담긴 폴더\n",
    "file_name = \"yooHaeJin02.mp4_20170315_113304.884\" #원본사진의 파일명"
   ]
  },
  {
   "cell_type": "code",
   "execution_count": 13,
   "metadata": {},
   "outputs": [],
   "source": [
    "# img = cv2.imread(\"{}\\{}.jpg\".format(folder, file_name)) #사진 확장자명은 jpg\n",
    "# gray = cv2.cvtColor(img, cv2.COLOR_BGR2GRAY)\n",
    "\n",
    "# faces = face_cascade.detectMultiScale(gray, 1.3, 5)\n",
    "# faceNum = 0\n",
    "# for (x,y,w,h) in faces:\n",
    "\n",
    "#     cv2.rectangle(img,(x,y),(x+w,y+h),(255,0,0),2) # 얼굴 영역\n",
    "    \n",
    "#     roi_gray = gray[y:y+h, x:x+w] # 얼굴영역 gray색상\n",
    "#     roi_color = img[y:y+h, x:x+w] # 얼굴영역 BGR 색상\n",
    "    \n",
    "#     roi_eyes = roi_gray[0 : np.int(np.round(len(roi_gray)/1.5)), :] # 눈 검출 영역\n",
    "#     roi_mouth = roi_gray[np.int(np.round(len(roi_gray)/1.5)) : len(roi_gray), :] # 입 검출 영역\n",
    "    \n",
    "#     eyes = eye_cascade.detectMultiScale(roi_eyes)\n",
    "#     nose = nose_cascade.detectMultiScale(roi_gray)\n",
    "#     mouth = mouth_cascade.detectMultiScale(roi_mouth)\n",
    "    \n",
    "#     for (ex,ey,ew,eh) in eyes:\n",
    "#         cv2.rectangle(roi_color,(ex,ey),(ex+ew,ey+eh),(0,255,0),2) # BGR(Blue, Green, Red)\n",
    "#     for (nx,ny,nw,nh) in nose:\n",
    "#         cv2.rectangle(roi_color,(nx,ny),(nx+nw,ny+nh),(255,255,0),2)\n",
    "#     for (mx,my,mw,mh) in mouth:\n",
    "#         my = my + np.int(np.round(len(roi_gray)/1.5)) # 좌표 보정\n",
    "#         cv2.rectangle(roi_color,(mx,my),(mx+mw,my+mh),(0,255,255),2)\n",
    "        \n",
    "#     roi_c_mouth = img[my:my+mh, mx:mx+mw]\n",
    "#     roi_g_mouth = gray[my:my+mh, mx:mx+mw]\n",
    "#     roi_c_nose = img[ny:ny+nh, nx:nx+nw]\n",
    "#     rio_g_nose = gray[ny:ny+nh, nx:nx+nw]\n",
    "\n",
    "#     print len(faces)\n",
    "#     print len(eyes)\n",
    "#     print len(nose)\n",
    "#     print len(mouth)\n",
    "\n",
    "# # cv2.imshow('img',img)\n",
    "# cv2.waitKey(0)\n",
    "# cv2.destroyAllWindows()"
   ]
  },
  {
   "cell_type": "markdown",
   "metadata": {},
   "source": [
    "### 코 정보 추출 작업중"
   ]
  },
  {
   "cell_type": "code",
   "execution_count": 30,
   "metadata": {},
   "outputs": [
    {
     "name": "stdout",
     "output_type": "stream",
     "text": [
      "[8.0, 14.0] [20.0, 14.0]\n",
      "12.0\n"
     ]
    },
    {
     "data": {
      "image/png": "[encoded data removed]",
      "text/plain": [
       "<matplotlib.figure.Figure at 0x8052fb0>"
      ]
     },
     "metadata": {},
     "output_type": "display_data"
    }
   ],
   "source": [
    "# img = cv2.imread(\"{}\\{}.jpg\".format(folder, file_name)) #사진 확장자명은 jpg\n",
    "# gray = cv2.cvtColor(img, cv2.COLOR_BGR2GRAY)\n",
    "\n",
    "# faces = face_cascade.detectMultiScale(gray, 1.3, 5)\n",
    "# faceNum = 0\n",
    "# for (x,y,w,h) in faces:\n",
    "\n",
    "#     cv2.rectangle(img,(x,y),(x+w,y+h),(255,0,0),2) # 얼굴 영역\n",
    "    \n",
    "#     roi_gray = gray[y:y+h, x:x+w] # 얼굴영역 gray색상\n",
    "#     roi_color = img[y:y+h, x:x+w] # 얼굴영역 BGR 색상\n",
    "\n",
    "#     nose = nose_cascade.detectMultiScale(roi_gray)\n",
    "    \n",
    "#     for (nx,ny,nw,nh) in nose:\n",
    "#         continue\n",
    "        \n",
    "#     roi_c_nose = img[y+ny:y+ny+nh, x+nx:x+nx+nw]\n",
    "#     roi_g_nose = gray[y+ny:y+ny+nh, x+nx:x+nx+nw]\n",
    "    \n",
    "    \n",
    "#     roi_l_nostril = roi_g_nose[:, 0: np.round(len(roi_g_nose[1])/2)]\n",
    "#     roi_r_nostril = roi_g_nose[:, np.round(len(roi_g_nose[1])/2) : len(roi_g_nose)]\n",
    "    \n",
    "#     l_ret, l_nostril = cv2.threshold(roi_l_nostril, roi_l_nostril.min() + 10, 255, cv2.THRESH_BINARY_INV)\n",
    "#     r_ret, r_nostril = cv2.threshold(roi_r_nostril, roi_r_nostril.min() + 10, 255, cv2.THRESH_BINARY_INV)\n",
    "    \n",
    "#     l_nostril_xy = [np.round(np.average(np.nonzero(l_nostril)[1])), np.round(np.average(np.nonzero(l_nostril)[0]))]\n",
    "#     r_nostril_xy = [np.round(np.average(np.nonzero(r_nostril)[1])) + np.round(len(roi_g_nose[1])/2), \\\n",
    "#                     np.round(np.average(np.nonzero(r_nostril)[0]))]\n",
    "    \n",
    "#     dist_nostril = np.sqrt((l_nostril_xy[0] - r_nostril_xy[0])**2 + (l_nostril_xy[1] - r_nostril_xy[1])**2)\n",
    "    \n",
    "    \n",
    "#     print l_nostril_xy, r_nostril_xy\n",
    "#     print dist_nostril\n",
    "    \n",
    "#     nostril = np.hstack((l_nostril, r_nostril))\n",
    "    \n",
    "    \n",
    "    \n",
    "    \n",
    "# #     canny_nose = cv2.Canny(roi_g_nose, 50, 100)\n",
    "# #     image, contours, hierarchy = cv2.findContours(roi_g_nose, cv2.RETR_TREE, cv2.CHAIN_APPROX_SIMPLE)\n",
    "# #     contour_nose = cv2.drawContours(roi_c_nose, contours, -1, (0, 255, 0), 2)\n",
    "# #     nostril2 = cv2.adaptiveThreshold(roi_g_nose,255,cv2.ADAPTIVE_THRESH_GAUSSIAN_C,\\\n",
    "# #             cv2.THRESH_BINARY,11,2)\n",
    "\n",
    "\n",
    "\n",
    "# \"\"\" Note for Research\n",
    "# 콧볼크기. 콧구멍을 이용? \n",
    "# > 콧볼크기의 간접적인 측정 척도\n",
    "# 콧구멍의 좌표 추출?\n",
    "# 코를 좌 우로 분할해서 각 좌표마다 최소값 + 10으로 threshold (+10에 대한 근거 없음)\n",
    "\n",
    "# 코의 길이. height 값을 이용하면 될 듯?\n",
    "# 대부분의 이미지에서 \n",
    "\n",
    "\n",
    "# # TODO\n",
    "# 음영 때문에 콧구멍이 가려지는 경우가 생김\n",
    "# 색공간에서의 계산을 통해 분리 가능?\n",
    "\n",
    "\n",
    "# \"\"\"\n",
    "\n",
    "\n",
    "# # cv2.imshow('img', roi_c_nose)\n",
    "# plt.imshow(nostril, 'gray')\n",
    "# plt.show()\n",
    "# cv2.waitKey(0)\n",
    "# cv2.destroyAllWindows()"
   ]
  },
  {
   "cell_type": "markdown",
   "metadata": {},
   "source": [
    "### 입 정보 추출 작업중"
   ]
  },
  {
   "cell_type": "code",
   "execution_count": 15,
   "metadata": {
    "collapsed": true
   },
   "outputs": [],
   "source": [
    "# img = cv2.imread(\"{}\\{}.jpg\".format(folder, file_name)) #사진 확장자명은 jpg\n",
    "# gray = cv2.cvtColor(img, cv2.COLOR_BGR2GRAY)\n",
    "\n",
    "# faces = face_cascade.detectMultiScale(gray, 1.3, 5)\n",
    "# faceNum = 0\n",
    "# for (x,y,w,h) in faces:\n",
    "\n",
    "#     cv2.rectangle(img,(x,y),(x+w,y+h),(255,0,0),2) # 얼굴 영역\n",
    "    \n",
    "#     roi_gray = gray[y:y+h, x:x+w] # 얼굴영역 gray색상\n",
    "#     roi_color = img[y:y+h, x:x+w] # 얼굴영역 BGR 색상\n",
    "#     roi_mouth = roi_gray[np.int(np.round(len(roi_gray)/1.5)) : len(roi_gray), :] # 입 검출 영역\n",
    "    \n",
    "#     mouth = mouth_cascade.detectMultiScale(roi_mouth)\n",
    "    \n",
    "#     for (mx,my,mw,mh) in mouth:\n",
    "#         my = my + np.int(np.round(len(roi_gray)/1.5)) # 좌표 보정\n",
    "#         continue\n",
    "# #         cv2.rectangle(roi_color,(mx,my),(mx+mw,my+mh),(0,255,255),2)\n",
    "        \n",
    "#     roi_c_mouth = img[y+my:y+my+mh, x+mx:x+mx+mw]\n",
    "#     roi_g_mouth = gray[y+my:y+my+mh, x+mx:x+mx+mw]\n",
    "    \n",
    "    \n",
    "# \"\"\" Note for Research\n",
    "# 입술크기. 입술색을 이용? \n",
    "# > 입술크기의 간접적인 측정 척도\n",
    "# HSV 색공간에서 빨간 계열만 추출?\n",
    "\n",
    "\n",
    "\n",
    "\n",
    "# # TODO\n",
    "\n",
    "\n",
    "# \"\"\"\n",
    "\n",
    "# # cv2.imshow('img',roi_c_mouth)\n",
    "# cv2.waitKey(0)\n",
    "# cv2.destroyAllWindows()"
   ]
  },
  {
   "cell_type": "markdown",
   "metadata": {},
   "source": [
    "### 광대정보 추출"
   ]
  },
  {
   "cell_type": "code",
   "execution_count": 57,
   "metadata": {},
   "outputs": [
    {
     "data": {
      "image/png": "[encoded data removed]",
      "text/plain": [
       "<matplotlib.figure.Figure at 0x19657ed0>"
      ]
     },
     "metadata": {},
     "output_type": "display_data"
    },
    {
     "data": {
      "image/png": "[encoded data removed]",
      "text/plain": [
       "<matplotlib.figure.Figure at 0x18d443d0>"
      ]
     },
     "metadata": {},
     "output_type": "display_data"
    },
    {
     "data": {
      "image/png": "[encoded data removed]",
      "text/plain": [
       "<matplotlib.figure.Figure at 0x1c5968d0>"
      ]
     },
     "metadata": {},
     "output_type": "display_data"
    },
    {
     "data": {
      "image/png": "[encoded data removed]",
      "text/plain": [
       "<matplotlib.figure.Figure at 0x12275070>"
      ]
     },
     "metadata": {},
     "output_type": "display_data"
    },
    {
     "data": {
      "image/png": "[encoded data removed]",
      "text/plain": [
       "<matplotlib.figure.Figure at 0x1d12feb0>"
      ]
     },
     "metadata": {},
     "output_type": "display_data"
    }
   ],
   "source": [
    "# img = cv2.imread(\"{}\\{}.jpg\".format(folder, file_name)) #사진 확장자명은 jpg\n",
    "# gray = cv2.cvtColor(img, cv2.COLOR_BGR2GRAY)\n",
    "\n",
    "# faces = face_cascade.detectMultiScale(gray, 1.3, 5)\n",
    "# faceNum = 0\n",
    "# for (x,y,w,h) in faces:\n",
    "\n",
    "#     cv2.rectangle(img,(x,y),(x+w,y+h),(255,0,0),2) # 얼굴 영역\n",
    "    \n",
    "#     roi_gray = gray[y:y+h, x:x+w] # 얼굴영역 gray색상\n",
    "#     roi_color = img[y:y+h, x:x+w] # 얼굴영역 BGR 색상\n",
    "\n",
    "#     nose = nose_cascade.detectMultiScale(roi_gray)\n",
    "    \n",
    "#     for (nx,ny,nw,nh) in nose:\n",
    "#         continue\n",
    "        \n",
    "# #     roi_c_nose = img[y+ny:y+ny+nh, x+nx:x+nx+nw]\n",
    "# #     roi_g_nose = gray[y+ny:y+ny+nh, x+nx:x+nx+nw]  \n",
    "    \n",
    "# #     l_cheek = roi_gray[ny:ny+nh, 0:nx]\n",
    "# #     r_cheek = roi_gray[ny:ny+nh, nx+nw:len(roi_gray[1])]\n",
    "    \n",
    "#     l_cheek = roi_color[ny:ny+nh, 0:nx, 0]\n",
    "#     r_cheek = roi_color[ny:ny+nh, nx+nw:len(roi_gray[1]), 0]\n",
    "    \n",
    "#     cheek = np.hstack((l_cheek, r_cheek))\n",
    "    \n",
    "#     laplacian = cv2.Laplacian(cheek,cv2.CV_64F)\n",
    "    \n",
    "#     l_sobelx = cv2.Sobel(l_cheek,cv2.CV_64F,1,0,ksize=5)\n",
    "#     l_sobely = cv2.Sobel(l_cheek,cv2.CV_64F,0,1,ksize=5)\n",
    "#     l_cheek_edge = l_sobelx + l_sobely\n",
    "    \n",
    "#     r_sobelx = cv2.Sobel(r_cheek,cv2.CV_64F,1,0,ksize=5)\n",
    "#     r_sobely = cv2.Sobel(r_cheek,cv2.CV_64F,0,1,ksize=5)\n",
    "#     r_cheek_edge = r_sobelx + r_sobely\n",
    "    \n",
    "#     cheek_edge = np.hstack((l_cheek_edge, r_cheek_edge))\n",
    "\n",
    "# #     equ = cv2.equalizeHist(roi_g_nose)\n",
    "# #     res = np.hstack((roi_g_nose,equ))\n",
    "# #     roi_l_nostril = roi_g_nose[:, 0: np.round(len(roi_g_nose[1])/2)]\n",
    "# #     roi_r_nostril = roi_g_nose[:, np.round(len(roi_g_nose[1])/2) : len(roi_g_nose)]\n",
    "    \n",
    "# #     l_ret, l_nostril = cv2.threshold(roi_l_nostril, roi_l_nostril.min() + 10, 255, cv2.THRESH_BINARY)\n",
    "# #     r_ret, r_nostril = cv2.threshold(roi_r_nostril, roi_r_nostril.min() + 10, 255, cv2.THRESH_BINARY)\n",
    "    \n",
    "# #     print l_nostril\n",
    "# #     print r_nostril\n",
    "    \n",
    "    \n",
    "# #     nostril = np.hstack((l_nostril, r_nostril))\n",
    "    \n",
    "    \n",
    "    \n",
    "    \n",
    "# #     canny_nose = cv2.Canny(roi_g_nose, 50, 100)\n",
    "# #     image, contours, hierarchy = cv2.findContours(roi_g_nose, cv2.RETR_TREE, cv2.CHAIN_APPROX_SIMPLE)\n",
    "# #     contour_nose = cv2.drawContours(roi_c_nose, contours, -1, (0, 255, 0), 2)\n",
    "# #     nostril2 = cv2.adaptiveThreshold(roi_g_nose,255,cv2.ADAPTIVE_THRESH_GAUSSIAN_C,\\\n",
    "# #             cv2.THRESH_BINARY,11,2)\n",
    "\n",
    "\n",
    "\n",
    "# \"\"\" Note for Research\n",
    "# 광대부분 히스토그램 관찰\n",
    "\n",
    "# # TODO\n",
    "# 음영 때문에 콧구멍이 가려지는 경우가 생김\n",
    "# 색공간에서의 계산을 통해 분리 가능?\n",
    "\n",
    "\n",
    "# \"\"\"\n",
    "\n",
    "\n",
    "# # cv2.imshow('img', roi_c_nose)\n",
    "# # plt.imshow(nostril, 'gray')\n",
    "# # plt.show()\n",
    "# # cv2.waitKey(0)\n",
    "# # cv2.destroyAllWindows()\n",
    "# plt.subplot(121)\n",
    "# plt.hist(l_cheek, range = (0,255) )\n",
    "# plt.subplot(122)\n",
    "# plt.hist(r_cheek, range = (0,255))\n",
    "# plt.show()\n",
    "# plt.imshow(cheek, 'gray')\n",
    "# plt.show()\n",
    "# plt.imshow(cheek_edge, 'gray')\n",
    "# plt.show()\n",
    "# plt.imshow(laplacian, 'gray')\n",
    "# plt.show()\n",
    "# # plt.imshow(roi_gray,'gray')\n",
    "# plt.imshow(cv2.cvtColor(roi_color, cv2.COLOR_BGR2RGB))\n",
    "# plt.tight_layout\n",
    "# plt.show()\n"
   ]
  },
  {
   "cell_type": "code",
   "execution_count": 42,
   "metadata": {},
   "outputs": [
    {
     "data": {
      "image/png": "[encoded data removed]",
      "text/plain": [
       "<matplotlib.figure.Figure at 0x197a9dd0>"
      ]
     },
     "metadata": {},
     "output_type": "display_data"
    },
    {
     "data": {
      "image/png": "[encoded data removed]",
      "text/plain": [
       "<matplotlib.figure.Figure at 0x12855090>"
      ]
     },
     "metadata": {},
     "output_type": "display_data"
    },
    {
     "data": {
      "image/png": "[encoded data removed]",
      "text/plain": [
       "<matplotlib.figure.Figure at 0x198939d0>"
      ]
     },
     "metadata": {},
     "output_type": "display_data"
    }
   ],
   "source": [
    "# plt.imshow(roi_color[:,:,0], 'gray') # green\n",
    "# plt.show()\n",
    "# plt.imshow(roi_color[:,:,1], 'gray') # blue\n",
    "# plt.show()\n",
    "# plt.imshow(roi_color[:,:,2], 'gray') # red\n",
    "\n",
    "# plt.tight_layout\n",
    "# plt.show()"
   ]
  },
  {
   "cell_type": "code",
   "execution_count": null,
   "metadata": {
    "collapsed": true
   },
   "outputs": [],
   "source": []
  },
  {
   "cell_type": "code",
   "execution_count": null,
   "metadata": {
    "collapsed": true
   },
   "outputs": [],
   "source": []
  },
  {
   "cell_type": "code",
   "execution_count": null,
   "metadata": {
    "collapsed": true
   },
   "outputs": [],
   "source": []
  },
  {
   "cell_type": "code",
   "execution_count": null,
   "metadata": {
    "collapsed": true
   },
   "outputs": [],
   "source": []
  },
  {
   "cell_type": "code",
   "execution_count": null,
   "metadata": {
    "collapsed": true
   },
   "outputs": [],
   "source": []
  }
 ],
 "metadata": {
  "kernelspec": {
   "display_name": "Python 2",
   "language": "python",
   "name": "python2"
  },
  "language_info": {
   "codemirror_mode": {
    "name": "ipython",
    "version": 2
   },
   "file_extension": ".py",
   "mimetype": "text/x-python",
   "name": "python",
   "nbconvert_exporter": "python",
   "pygments_lexer": "ipython2",
   "version": "2.7.13"
  }
 },
 "nbformat": 4,
 "nbformat_minor": 2
}
